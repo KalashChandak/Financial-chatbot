{
 "cells": [
  {
   "cell_type": "code",
   "execution_count": null,
   "id": "6b44bb6a-ba35-4437-ab0c-23f1ad62f730",
   "metadata": {},
   "outputs": [
    {
     "name": "stdout",
     "output_type": "stream",
     "text": [
      "Type 'hi' to start the Financial Chatbot or 'exit' to quit.\n"
     ]
    },
    {
     "name": "stdin",
     "output_type": "stream",
     "text": [
      "You:  hi\n"
     ]
    },
    {
     "name": "stdout",
     "output_type": "stream",
     "text": [
      "\n",
      "👋 Hi there! I’m your Financial Chatbot.\n",
      "I can help you with financial data for Apple, Microsoft, and Tesla.\n",
      "Try asking things like:\n",
      "- What is the total revenue?\n",
      "- What is the revenue growth(%)?\n",
      "- What is the year by year average net income growth rate(%)?\n",
      "\n",
      "Type 'exit' anytime to quit.\n",
      "\n"
     ]
    },
    {
     "name": "stdin",
     "output_type": "stream",
     "text": [
      "Enter a company name:  apple\n"
     ]
    }
   ],
   "source": [
    "import pandas as pd\n",
    "\n",
    "# Load CSV files\n",
    "detailed_df = pd.read_csv(\"C:\\\\Users\\\\kkala\\\\OneDrive\\\\Desktop\\\\FORAGE\\\\BCGx\\\\Company_Financials_with_Growth.csv\")\n",
    "summary_df = pd.read_csv('C:\\\\Users\\\\kkala\\\\OneDrive\\\\Desktop\\\\FORAGE\\\\BCGx\\\\Growth_Summary.csv')\n",
    "\n",
    "# List of known companies\n",
    "company_list = ['Apple', 'Microsoft', 'Tesla']\n",
    "\n",
    "# Normalize capitalization in the data\n",
    "detailed_df['Company'] = detailed_df['Company'].str.title()\n",
    "summary_df['Company'] = summary_df['Company'].str.title()\n",
    "\n",
    "# Financial chatbot function\n",
    "def financial_chatbot(company, query):\n",
    "    company = company.strip().title()\n",
    "    query = query.strip().lower()\n",
    "\n",
    "    if company not in company_list:\n",
    "        return f\"Sorry, '{company}' is not a recognized company. Try: {', '.join(company_list)}\"\n",
    "\n",
    "    company_data = detailed_df[detailed_df['Company'] == company].sort_values(by='Year')\n",
    "    last_row = company_data.iloc[-1]\n",
    "    summary_row = summary_df[summary_df['Company'] == company]\n",
    "\n",
    "    # Keyword-based query matching\n",
    "    if \"total revenue\" in query or \"revenue\" in query:\n",
    "        if \"growth\" in query and \"average\" in query:\n",
    "            return f\"{company}'s average yearly revenue growth rate is {summary_row['Revenue Growth (%)'].values[0]:.2f}%.\"\n",
    "        elif \"growth\" in query:\n",
    "            return f\"{company}'s revenue growth is {last_row['Revenue Growth (%)']:.2f}%.\"\n",
    "        else:\n",
    "            return f\"{company}'s total revenue is ${last_row['Total Revenue']:,.2f}.\"\n",
    "\n",
    "    elif \"net income\" in query:\n",
    "        if \"growth\" in query and \"average\" in query:\n",
    "            return f\"{company}'s average yearly net income growth rate is {summary_row['Net Income Growth (%)'].values[0]:.2f}%.\"\n",
    "        elif \"growth\" in query:\n",
    "            return f\"{company}'s net income growth is {last_row['Net Income Growth (%)']:.2f}%.\"\n",
    "        else:\n",
    "            return f\"{company}'s net income is ${last_row['Net Income']:,.2f}.\"\n",
    "\n",
    "    elif \"assets\" in query:\n",
    "        if \"growth\" in query and \"average\" in query:\n",
    "            return f\"{company}'s average yearly assets growth rate is {summary_row['Assets Growth (%)'].values[0]:.2f}%.\"\n",
    "        elif \"growth\" in query:\n",
    "            return f\"{company}'s assets growth is {last_row['Assets Growth (%)']:.2f}%.\"\n",
    "        else:\n",
    "            return f\"{company}'s total assets are ${last_row['Total Assets']:,.2f}.\"\n",
    "\n",
    "    elif \"liabilities\" in query:\n",
    "        if \"growth\" in query and \"average\" in query:\n",
    "            return f\"{company}'s average yearly liabilities growth rate is {summary_row['Liabilities Growth (%)'].values[0]:.2f}%.\"\n",
    "        elif \"growth\" in query:\n",
    "            return f\"{company}'s liabilities growth is {last_row['Liabilities Growth (%)']:.2f}%.\"\n",
    "        else:\n",
    "            return f\"{company}'s total liabilities are ${last_row['Total Liabilities']:,.2f}.\"\n",
    "\n",
    "    elif \"cash flow\" in query or \"operations\" in query:\n",
    "        if \"growth\" in query and \"average\" in query:\n",
    "            return f\"{company}'s average yearly cash flow from operations growth rate is {summary_row['Cash Flow Growth (%)'].values[0]:.2f}%.\"\n",
    "        elif \"growth\" in query:\n",
    "            return f\"{company}'s cash flow from operations growth is {last_row['Cash Flow Growth (%)']:,.2f}%.\"\n",
    "        else:\n",
    "            return f\"{company}'s cash flow from operations is ${last_row['Cash Flow from Operations']:,.2f}.\"\n",
    "\n",
    "    else:\n",
    "        return \"Sorry, I can only answer specific financial queries like revenue, net income, assets, liabilities, or cash flow.\"\n",
    "\n",
    "\n",
    "# Start chatbot after greeting\n",
    "def start_chatbot():\n",
    "    print(\"\\n👋 Hi there! I’m your Financial Chatbot.\")\n",
    "    print(\"I can help you with financial data for Apple, Microsoft, and Tesla.\")\n",
    "    print(\"Try asking things like:\\n- What is the total revenue?\\n- What is the revenue growth(%)?\\n- What is the year by year average net income growth rate(%)?\\n\")\n",
    "    print(\"Type 'exit' anytime to quit.\\n\")\n",
    "\n",
    "    while True:\n",
    "        company = input(\"Enter a company name: \").strip()\n",
    "        if company.lower() == 'exit':\n",
    "            print(\"👋 Goodbye!\")\n",
    "            break\n",
    "\n",
    "        query = input(\"Ask your financial question: \").strip()\n",
    "        if query.lower() == 'exit':\n",
    "            print(\"👋 Goodbye!\")\n",
    "            break\n",
    "\n",
    "        print(financial_chatbot(company, query))\n",
    "        print()\n",
    "\n",
    "\n",
    "# Entry point\n",
    "if __name__ == \"__main__\":\n",
    "    print(\"Type 'hi' to start the Financial Chatbot or 'exit' to quit.\")\n",
    "    \n",
    "    while True:\n",
    "        user_input = input(\"You: \").strip().lower()\n",
    "        if user_input == 'exit':\n",
    "            print(\"👋 Goodbye!\")\n",
    "            break\n",
    "        elif user_input in ['hi', 'hello', 'hey']:\n",
    "            start_chatbot()\n",
    "            break\n",
    "        else:\n",
    "            print(\"Please type 'hi' to begin or 'exit' to quit.\")\n"
   ]
  },
  {
   "cell_type": "code",
   "execution_count": null,
   "id": "7500afab-1466-424a-8e68-9081a30e2519",
   "metadata": {},
   "outputs": [],
   "source": []
  }
 ],
 "metadata": {
  "kernelspec": {
   "display_name": "Python [conda env:base] *",
   "language": "python",
   "name": "conda-base-py"
  },
  "language_info": {
   "codemirror_mode": {
    "name": "ipython",
    "version": 3
   },
   "file_extension": ".py",
   "mimetype": "text/x-python",
   "name": "python",
   "nbconvert_exporter": "python",
   "pygments_lexer": "ipython3",
   "version": "3.12.7"
  }
 },
 "nbformat": 4,
 "nbformat_minor": 5
}
