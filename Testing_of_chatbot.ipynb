{
 "cells": [
  {
   "cell_type": "raw",
   "id": "c7160b1b-a175-47b7-b32f-9a59ff00dae8",
   "metadata": {},
   "source": [
    "The AI powered Financial Chatbot Prototype currently responds only to the given set of questions for selected companies and fiscal years wiz: --\n",
    "1.What is the total revenue?\n",
    "2.What is the Net Income?\n",
    "3.What is the sum of total assets?\n",
    "4.What is the sum of total liabilities?\n",
    "5.What is cash flow from operating activities?\n",
    "6.What is the revenue growth(%) ?\n",
    "7.What is the net income growth(%) ?\n",
    "8.What is the assets growth(%) ?\n",
    "9.What is the liabilities growth(%) ?\n",
    "10.What is the cash flow from operations growth(%) ?\n",
    "11.What is the year by year average revenue growth rate(%)?\n",
    "12.What is the year by year average net income growth rate(%)?\n",
    "13.What is the year by year average assets growth rate(%)?\n",
    "14.What is the year by year average liabilities growth rate(%)?\n",
    "15.What is the year by year average cash flow from operations growth rate(%)?"
   ]
  },
  {
   "cell_type": "code",
   "execution_count": 9,
   "id": "8a0d1c3a-185e-4a69-aa11-fa27c8da4c18",
   "metadata": {},
   "outputs": [
    {
     "name": "stdout",
     "output_type": "stream",
     "text": [
      "Type 'hi' to start the Financial Chatbot or 'exit' to quit.\n"
     ]
    },
    {
     "name": "stdin",
     "output_type": "stream",
     "text": [
      "You:  exit\n"
     ]
    },
    {
     "name": "stdout",
     "output_type": "stream",
     "text": [
      "👋 Goodbye!\n"
     ]
    }
   ],
   "source": [
    "%run BCGx-Financial_chatbot.ipynb"
   ]
  },
  {
   "cell_type": "code",
   "execution_count": 14,
   "id": "25f87d79-4e94-4f40-82d8-5780fede7c4a",
   "metadata": {},
   "outputs": [
    {
     "name": "stdout",
     "output_type": "stream",
     "text": [
      "Type 'hi' to start the Financial Chatbot or 'exit' to quit.\n"
     ]
    },
    {
     "name": "stdin",
     "output_type": "stream",
     "text": [
      "You:  hi\n"
     ]
    },
    {
     "name": "stdout",
     "output_type": "stream",
     "text": [
      "\n",
      "👋 Hi there! I’m your Financial Chatbot.\n",
      "I can help you with financial data for Apple, Microsoft, and Tesla.\n",
      "Try asking things like:\n",
      "- What is the total revenue?\n",
      "- What is the revenue growth(%)?\n",
      "- What is the year by year average net income growth rate(%)?\n",
      "\n",
      "Type 'exit' anytime to quit.\n",
      "\n"
     ]
    },
    {
     "name": "stdin",
     "output_type": "stream",
     "text": [
      "Enter a company name:  APLLLL\n",
      "Ask your financial question:  Revenue?\n"
     ]
    },
    {
     "name": "stdout",
     "output_type": "stream",
     "text": [
      "Sorry, 'Apllll' is not a recognized company. Try: Apple, Microsoft, Tesla\n",
      "\n"
     ]
    },
    {
     "name": "stdin",
     "output_type": "stream",
     "text": [
      "Enter a company name:  Apple\n",
      "Ask your financial question:  Revenue?\n"
     ]
    },
    {
     "name": "stdout",
     "output_type": "stream",
     "text": [
      "Apple's total revenue is $391,035.00.\n",
      "\n"
     ]
    },
    {
     "name": "stdin",
     "output_type": "stream",
     "text": [
      "Enter a company name:  exit\n"
     ]
    },
    {
     "name": "stdout",
     "output_type": "stream",
     "text": [
      "👋 Goodbye!\n"
     ]
    }
   ],
   "source": [
    "%run BCGx-Financial_chatbot.ipynb"
   ]
  },
  {
   "cell_type": "code",
   "execution_count": 12,
   "id": "ff28825d-693e-4d56-af46-95d7770c0d65",
   "metadata": {},
   "outputs": [
    {
     "name": "stdout",
     "output_type": "stream",
     "text": [
      "Type 'hi' to start the Financial Chatbot or 'exit' to quit.\n"
     ]
    },
    {
     "name": "stdin",
     "output_type": "stream",
     "text": [
      "You:  hi\n"
     ]
    },
    {
     "name": "stdout",
     "output_type": "stream",
     "text": [
      "\n",
      "👋 Hi there! I’m your Financial Chatbot.\n",
      "I can help you with financial data for Apple, Microsoft, and Tesla.\n",
      "Try asking things like:\n",
      "- What is the total revenue?\n",
      "- What is the revenue growth(%)?\n",
      "- What is the year by year average net income growth rate(%)?\n",
      "\n",
      "Type 'exit' anytime to quit.\n",
      "\n"
     ]
    },
    {
     "name": "stdin",
     "output_type": "stream",
     "text": [
      "Enter a company name:  apple\n",
      "Ask your financial question:  What is the total revenue?\n"
     ]
    },
    {
     "name": "stdout",
     "output_type": "stream",
     "text": [
      "Apple's total revenue is $391,035.00.\n",
      "\n"
     ]
    },
    {
     "name": "stdin",
     "output_type": "stream",
     "text": [
      "Enter a company name:  apple\n",
      "Ask your financial question:  average revenue\n"
     ]
    },
    {
     "name": "stdout",
     "output_type": "stream",
     "text": [
      "Apple's total revenue is $391,035.00.\n",
      "\n"
     ]
    },
    {
     "name": "stdin",
     "output_type": "stream",
     "text": [
      "Enter a company name:  microsoft \n",
      "Ask your financial question:  liabilities\n"
     ]
    },
    {
     "name": "stdout",
     "output_type": "stream",
     "text": [
      "Microsoft's total liabilities are $243,686.00.\n",
      "\n"
     ]
    },
    {
     "name": "stdin",
     "output_type": "stream",
     "text": [
      "Enter a company name:  TESLA\n",
      "Ask your financial question:  Assets\n"
     ]
    },
    {
     "name": "stdout",
     "output_type": "stream",
     "text": [
      "Tesla's total assets are $122,070.00.\n",
      "\n"
     ]
    },
    {
     "name": "stdin",
     "output_type": "stream",
     "text": [
      "Enter a company name:  exit\n"
     ]
    },
    {
     "name": "stdout",
     "output_type": "stream",
     "text": [
      "👋 Goodbye!\n"
     ]
    }
   ],
   "source": [
    "%run BCGx-Financial_chatbot.ipynb"
   ]
  },
  {
   "cell_type": "raw",
   "id": "20d621e2-7a8b-477d-8681-72186f9f4056",
   "metadata": {},
   "source": [
    "Functionality (What the Chatbot Can Do)\n",
    "\n",
    "1. Responds to Financial Questions for Selected Companies\n",
    "   It provides information for a predefined list of companies (`Apple`, `Microsoft`, `Tesla`), including:\n",
    "   * Total Revenue\n",
    "   * Net Income\n",
    "   * Total Assets & Liabilities\n",
    "   * Cash Flow from Operations\n",
    "   * Growth Rates (Revenue, Net Income, Assets, Liabilities, Cash Flow)\n",
    "   * Average Yearly Growth Rates for each metric\n",
    "\n",
    "2. Case-Insensitive Input\n",
    "   It accepts queries like `WHAT IS THE NET INCOME?` or `apple` and interprets them correctly.\n",
    "\n",
    "3. Keyword-Based Flexibility\n",
    "   Users don’t need to type exact predefined phrases. Partial matches like:\n",
    "    \"revenue growth?\",\n",
    "    \"average asset growth\", or\n",
    "    \"cash flow\"\n",
    "     are recognized intelligently using keyword logic.\n",
    "\n",
    "4. Latest Year’s Data\n",
    "   The chatbot returns the most recent year’s financial values from the dataset for accurate, up-to-date responses.\n",
    "\n",
    "5. Simple Text Interface\n",
    "   It runs in a terminal or Jupyter notebook, using `input()` for company name and query.\n",
    "\n",
    "Limitations (What It Can’t Do Yet)\n",
    "\n",
    "1. Limited to Predefined Companies\n",
    "   Only works for `'Apple'`, `'Microsoft'`, and `'Tesla'`. Adding more companies requires manually updating the `company_list`.\n",
    "\n",
    "2. No Natural Language Understanding\n",
    "   It matches keywords but doesn't fully understand natural language questions like:\n",
    "\n",
    "   * \"How much did Apple earn last year?\"\n",
    "   * \"Tell me about Tesla's performance.\"\n",
    "\n",
    "3. No Error Handling for Missing Data\n",
    "   If a required column (like `'Cash Flow Growth (%)'`) is missing or has NaNs, the chatbot may throw an error instead of handling it gracefully.\n",
    "\n",
    "4. No Web Integration or Real-Time Updates\n",
    "   It doesn't fetch live financial data — it only works with preloaded CSV files (`Company_Financials_with_Growth.csv` and `Growth_Summary.csv`).\n",
    "\n",
    "5. No GUI or Visual Interface\n",
    "   Currently text-only. No buttons, graphs, dropdowns, or interactive UI components.\n",
    "\n",
    "6. Limited Query Types\n",
    "   Only supports financial performance questions. Cannot:\n",
    "\n",
    "   * Compare multiple companies\n",
    "   * Give trend analysis over time\n",
    "   * Answer user-defined/custom questions"
   ]
  },
  {
   "cell_type": "code",
   "execution_count": null,
   "id": "944378c1-cec2-42ca-ad9b-7f0d25ffa493",
   "metadata": {},
   "outputs": [],
   "source": []
  }
 ],
 "metadata": {
  "kernelspec": {
   "display_name": "Python [conda env:base] *",
   "language": "python",
   "name": "conda-base-py"
  },
  "language_info": {
   "codemirror_mode": {
    "name": "ipython",
    "version": 3
   },
   "file_extension": ".py",
   "mimetype": "text/x-python",
   "name": "python",
   "nbconvert_exporter": "python",
   "pygments_lexer": "ipython3",
   "version": "3.12.7"
  }
 },
 "nbformat": 4,
 "nbformat_minor": 5
}
